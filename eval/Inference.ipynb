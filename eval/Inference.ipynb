{
 "cells": [
  {
   "cell_type": "markdown",
   "metadata": {},
   "source": [
    "# Object Detection Demo\n",
    "Welcome to the object detection inference walkthrough!  This notebook will walk you step by step through the process of using a pre-trained model to detect objects in an image. Make sure to follow the [installation instructions](https://github.com/tensorflow/models/blob/master/research/object_detection/g3doc/installation.md) before you start."
   ]
  },
  {
   "cell_type": "markdown",
   "metadata": {},
   "source": [
    "# Imports"
   ]
  },
  {
   "cell_type": "code",
   "execution_count": 1,
   "metadata": {
    "scrolled": true
   },
   "outputs": [
    {
     "name": "stderr",
     "output_type": "stream",
     "text": [
      "c:\\users\\berger\\appdata\\local\\continuum\\anaconda3\\lib\\site-packages\\h5py\\__init__.py:36: FutureWarning: Conversion of the second argument of issubdtype from `float` to `np.floating` is deprecated. In future, it will be treated as `np.float64 == np.dtype(float).type`.\n",
      "  from ._conv import register_converters as _register_converters\n"
     ]
    },
    {
     "name": "stdout",
     "output_type": "stream",
     "text": [
      "done\n"
     ]
    }
   ],
   "source": [
    "import numpy as np\n",
    "import os\n",
    "import six.moves.urllib as urllib\n",
    "import sys\n",
    "import tarfile\n",
    "import tensorflow as tf\n",
    "import zipfile\n",
    "import csv\n",
    "import time\n",
    "import cv2\n",
    "\n",
    "from collections import defaultdict\n",
    "from io import StringIO\n",
    "from matplotlib import pyplot as plt\n",
    "from PIL import Image\n",
    "\n",
    "\n",
    "\n",
    "#if tf.__version__ < '1.4.0':\n",
    "#  raise ImportError('Please upgrade your tensorflow installation to v1.4.* or later!')\n",
    "print('done')"
   ]
  },
  {
   "cell_type": "markdown",
   "metadata": {},
   "source": [
    "## Variables\n",
    "\n",
    "Any model exported using the `export_inference_graph.py` tool can be loaded here simply by changing `PATH_TO_CKPT` to point to a new .pb file.  \n",
    "\n",
    "By default we use an \"SSD with Mobilenet\" model here. See the [detection model zoo](https://github.com/tensorflow/models/blob/master/research/object_detection/g3doc/detection_model_zoo.md) for a list of other models that can be run out-of-the-box with varying speeds and accuracies."
   ]
  },
  {
   "cell_type": "code",
   "execution_count": 72,
   "metadata": {},
   "outputs": [],
   "source": [
    "ROOT = os.getcwd()\n",
    "# What model to download.\n",
    "MODEL_PATH = 'Model/500frozen_inference_graph.pb'\n",
    "#Path to input images\n",
    "PATH_TO_TEST_IMAGES = 'Images/'\n",
    "\n",
    "PATH_TO_TRUE_LABELS = 'Images/test_labels.csv'\n",
    "# List of the strings that is used to add correct label for each box.\n",
    "PATH_TO_LABELS = os.path.join('training', 'labelmap.pbtxt')\n",
    "\n",
    "OUTPUT_PATH = 'Images/'\n",
    "threshold = 0.1"
   ]
  },
  {
   "cell_type": "markdown",
   "metadata": {},
   "source": [
    "## Load a (frozen) Tensorflow model into memory."
   ]
  },
  {
   "cell_type": "code",
   "execution_count": 73,
   "metadata": {},
   "outputs": [
    {
     "name": "stdout",
     "output_type": "stream",
     "text": [
      "done\n"
     ]
    }
   ],
   "source": [
    "detection_graph = tf.Graph()\n",
    "with detection_graph.as_default():\n",
    "  od_graph_def = tf.GraphDef()\n",
    "  with tf.gfile.GFile(MODEL_PATH, 'rb') as fid:\n",
    "    serialized_graph = fid.read()\n",
    "    od_graph_def.ParseFromString(serialized_graph)\n",
    "    tf.import_graph_def(od_graph_def, name='')\n",
    "print('done')"
   ]
  },
  {
   "cell_type": "markdown",
   "metadata": {},
   "source": [
    "## Helper code"
   ]
  },
  {
   "cell_type": "code",
   "execution_count": 74,
   "metadata": {},
   "outputs": [],
   "source": [
    "def load_image_into_numpy_array(image):\n",
    "  (im_width, im_height) = image.size\n",
    "  return np.array(image.getdata()).reshape(\n",
    "      (im_height, im_width, 3)).astype(np.uint8)"
   ]
  },
  {
   "cell_type": "markdown",
   "metadata": {},
   "source": [
    "# Detection"
   ]
  },
  {
   "cell_type": "code",
   "execution_count": 75,
   "metadata": {},
   "outputs": [
    {
     "name": "stdout",
     "output_type": "stream",
     "text": [
      "['Images/00002.jpg', 'Images/00016.jpg', 'Images/00021.jpg', 'Images/00023.jpg', 'Images/00037.jpg', 'Images/00039.jpg', 'Images/00043.jpg', 'Images/00051.jpg', 'Images/00058 - Copy.jpg', 'Images/00058.jpg', 'Images/00059.jpg', 'Images/00067.jpg', 'Images/00095.jpg', 'Images/00113.jpg', 'Images/00120.jpg', 'Images/00128.jpg', 'Images/0013.jpg', 'Images/00139.jpg', 'Images/0014.jpg', 'Images/00146.jpg', 'Images/0021.jpg', 'Images/0026.jpg', 'Images/0028.jpg', 'Images/0034.jpg', 'Images/0036.jpg', 'Images/0044.jpg', 'Images/0048.jpg', 'Images/0055.jpg', 'Images/0064.jpg', 'Images/0077.jpg', 'Images/0081.jpg', 'Images/0084.jpg', 'Images/0089.jpg', 'Images/0110.jpg', 'Images/0111.jpg', 'Images/0119.jpg', 'Images/0127.jpg', 'Images/0129.jpg', 'Images/0143.jpg', 'Images/0145.jpg', 'Images/0157.jpg', 'Images/0159.jpg', 'Images/0161.jpg', 'Images/0169.jpg', 'Images/0175.jpg', 'Images/0179.jpg', 'Images/0182.jpg', 'Images/0203.jpg', 'Images/0213.jpg', 'Images/0217.jpg', 'Images/0221.jpg', 'Images/0223.jpg', 'Images/0233.jpg', 'Images/0236.jpg', 'Images/0243.jpg', 'Images/0253.jpg', 'Images/0257.jpg', 'Images/0264.jpg', 'Images/0269.jpg', 'Images/0271.jpg', 'Images/0272.jpg', 'Images/0277.jpg', 'Images/0287.jpg', 'Images/0289.jpg', 'Images/0291.jpg', 'Images/0299.jpg', 'Images/0323.jpg', 'Images/0330.jpg', 'Images/0332.jpg', 'Images/0370.jpg', 'Images/0377.jpg', 'Images/0388.jpg', 'Images/0389.jpg', 'Images/0407.jpg', 'Images/0442.jpg', 'Images/0472.jpg', 'Images/0489.jpg', 'Images/0511.jpg', 'Images/0517.jpg', 'Images/0520.jpg', 'Images/0525.jpg']\n"
     ]
    }
   ],
   "source": [
    "# For the sake of simplicity we will use only 2 images:\n",
    "# image1.jpg\n",
    "# image2.jpg\n",
    "# If you want to test the code with your images, just add path to the images to the TEST_IMAGE_PATHS.\n",
    "TEST_IMAGE_PATHS = []\n",
    "for file in os.listdir(PATH_TO_TEST_IMAGES):\n",
    "    if file.endswith(\".jpg\"):\n",
    "        TEST_IMAGE_PATHS.append(os.path.join(PATH_TO_TEST_IMAGES, file))\n",
    "#TEST_IMAGE_PATHS = [ os.path.join(PATH_TO_TEST_IMAGES_DIR, 'newImages{}.jpg'.format(i)) for i in range(1, 4) ]\n",
    "\n",
    "# Size, in inches, of the output images.\n",
    "IMAGE_SIZE = (1024, 1024)\n",
    "print(TEST_IMAGE_PATHS)"
   ]
  },
  {
   "cell_type": "code",
   "execution_count": 76,
   "metadata": {},
   "outputs": [
    {
     "name": "stdout",
     "output_type": "stream",
     "text": [
      "done\n",
      "done\n"
     ]
    }
   ],
   "source": [
    "configCPU = tf.ConfigProto(device_count={'GPU': 0})\n",
    "configCPU.gpu_options.allow_growth = False\n",
    "configCPU.log_device_placement=False\n",
    "\n",
    "configGPU = tf.ConfigProto()\n",
    "configGPU.gpu_options.allow_growth = True\n",
    "configGPU.log_device_placement=False\n",
    "\n",
    "def run_inference_for_single_image(image, graph):\n",
    "  with graph.as_default():\n",
    "    with tf.Session(config=configGPU) as sess:\n",
    "      # Get handles to input and output tensors\n",
    "      ops = tf.get_default_graph().get_operations()\n",
    "      all_tensor_names = {output.name for op in ops for output in op.outputs}\n",
    "      tensor_dict = {}\n",
    "      for key in [\n",
    "          'num_detections', 'detection_boxes', 'detection_scores',\n",
    "          'detection_classes', 'detection_masks'\n",
    "      ]:\n",
    "        tensor_name = key + ':0'\n",
    "        if tensor_name in all_tensor_names:\n",
    "          tensor_dict[key] = tf.get_default_graph().get_tensor_by_name(\n",
    "              tensor_name)\n",
    "      if 'detection_masks' in tensor_dict:\n",
    "        # The following processing is only for single image\n",
    "        detection_boxes = tf.squeeze(tensor_dict['detection_boxes'], [0])\n",
    "        detection_masks = tf.squeeze(tensor_dict['detection_masks'], [0])\n",
    "        # Reframe is required to translate mask from box coordinates to image coordinates and fit the image size.\n",
    "        real_num_detection = tf.cast(tensor_dict['num_detections'][0], tf.int32)\n",
    "        detection_boxes = tf.slice(detection_boxes, [0, 0], [real_num_detection, -1])\n",
    "        detection_masks = tf.slice(detection_masks, [0, 0, 0], [real_num_detection, -1, -1])\n",
    "        detection_masks_reframed = utils_ops.reframe_box_masks_to_image_masks(\n",
    "            detection_masks, detection_boxes, image.shape[0], image.shape[1])\n",
    "        detection_masks_reframed = tf.cast(\n",
    "            tf.greater(detection_masks_reframed, 0.5), tf.uint8)\n",
    "        # Follow the convention by adding back the batch dimension\n",
    "        tensor_dict['detection_masks'] = tf.expand_dims(\n",
    "            detection_masks_reframed, 0)\n",
    "      image_tensor = tf.get_default_graph().get_tensor_by_name('image_tensor:0')\n",
    "\n",
    "      # Run inference\n",
    "      output_dict = sess.run(tensor_dict,\n",
    "                             feed_dict={image_tensor: np.expand_dims(image, 0)})\n",
    "      \n",
    "    \n",
    "      # all outputs are float32 numpy arrays, so convert types as appropriate\n",
    "      output_dict['num_detections'] = int(output_dict['num_detections'][0])\n",
    "      output_dict['detection_classes'] = output_dict[\n",
    "          'detection_classes'][0].astype(np.uint8)\n",
    "      output_dict['detection_boxes'] = output_dict['detection_boxes'][0]\n",
    "      output_dict['detection_scores'] = output_dict['detection_scores'][0]\n",
    "      if 'detection_masks' in output_dict:\n",
    "        output_dict['detection_masks'] = output_dict['detection_masks'][0]\n",
    "        \n",
    "      \n",
    "      #saver.save(sess,graphOutputTest)\n",
    "  return output_dict\n",
    "print('done')\n",
    "\n",
    "def run_inference_for_multiple_image(images, graph):\n",
    "  with graph.as_default():\n",
    "    with tf.Session(config=configGPU) as sess:\n",
    "      # Get handles to input and output tensors\n",
    "      ops = tf.get_default_graph().get_operations()\n",
    "      all_tensor_names = {output.name for op in ops for output in op.outputs}\n",
    "      tensor_dict = {}\n",
    "      for key in [\n",
    "          'num_detections', 'detection_boxes', 'detection_scores',\n",
    "          'detection_classes', 'detection_masks'\n",
    "      ]:\n",
    "        tensor_name = key + ':0'\n",
    "        if tensor_name in all_tensor_names:\n",
    "          tensor_dict[key] = tf.get_default_graph().get_tensor_by_name(\n",
    "              tensor_name)\n",
    "      if 'detection_masks' in tensor_dict:\n",
    "        # The following processing is only for single image\n",
    "        detection_boxes = tf.squeeze(tensor_dict['detection_boxes'], [0])\n",
    "        detection_masks = tf.squeeze(tensor_dict['detection_masks'], [0])\n",
    "        # Reframe is required to translate mask from box coordinates to image coordinates and fit the image size.\n",
    "        real_num_detection = tf.cast(tensor_dict['num_detections'][0], tf.int32)\n",
    "        detection_boxes = tf.slice(detection_boxes, [0, 0], [real_num_detection, -1])\n",
    "        detection_masks = tf.slice(detection_masks, [0, 0, 0], [real_num_detection, -1, -1])\n",
    "        detection_masks_reframed = utils_ops.reframe_box_masks_to_image_masks(\n",
    "            detection_masks, detection_boxes, image.shape[0], image.shape[1])\n",
    "        detection_masks_reframed = tf.cast(\n",
    "            tf.greater(detection_masks_reframed, 0.5), tf.uint8)\n",
    "        # Follow the convention by adding back the batch dimension\n",
    "        tensor_dict['detection_masks'] = tf.expand_dims(\n",
    "            detection_masks_reframed, 0)\n",
    "      image_tensor = tf.get_default_graph().get_tensor_by_name('image_tensor:0')\n",
    "      for image_path in images:\n",
    "          print(image_path)\n",
    "          image = Image.open(image_path)\n",
    "          image_np = load_image_into_numpy_array(image)\n",
    "          image_np_expanded = np.expand_dims(image_np, axis=0)\n",
    "          # Run inference\n",
    "          output_dict = sess.run(tensor_dict,\n",
    "                             feed_dict={image_tensor: np.expand_dims(image, 0)})\n",
    "      \n",
    "    \n",
    "      # all outputs are float32 numpy arrays, so convert types as appropriate\n",
    "      output_dict['num_detections'] = int(output_dict['num_detections'][0])\n",
    "      output_dict['detection_classes'] = output_dict[\n",
    "          'detection_classes'][0].astype(np.uint8)\n",
    "      output_dict['detection_boxes'] = output_dict['detection_boxes'][0]\n",
    "      output_dict['detection_scores'] = output_dict['detection_scores'][0]\n",
    "      if 'detection_masks' in output_dict:\n",
    "        output_dict['detection_masks'] = output_dict['detection_masks'][0]\n",
    "        \n",
    "      \n",
    "      #saver.save(sess,graphOutputTest)\n",
    "  return output_dict\n",
    "print('done')"
   ]
  },
  {
   "cell_type": "code",
   "execution_count": 77,
   "metadata": {},
   "outputs": [],
   "source": [
    "def get_intersect(pred_coords,true_coords):\n",
    "    true_coords=[float(i) for i in true_coords]\n",
    "    pred_coords=[float(i)*1024 for i in pred_coords]\n",
    "    predicted_surface = (pred_coords[2]-pred_coords[0])*(pred_coords[3]-pred_coords[1])\n",
    "    true_surface = (true_coords[2]-true_coords[0])*(true_coords[3]-true_coords[1])\n",
    "    \n",
    "    intersect_ymin = max(pred_coords[1], true_coords[0])\n",
    "    intersect_xmin = max(pred_coords[0], true_coords[1])\n",
    "    intersect_ymax = min(pred_coords[3], true_coords[2])\n",
    "    intersect_xmax = min(pred_coords[2], true_coords[3])\n",
    "    \n",
    "    intersect_surface = max(0,  intersect_ymax-intersect_ymin ) * max(0, intersect_xmax - intersect_xmin)\n",
    "    return intersect_surface/float(predicted_surface+true_surface-intersect_surface)\n",
    "    "
   ]
  },
  {
   "cell_type": "code",
   "execution_count": 78,
   "metadata": {},
   "outputs": [],
   "source": [
    "def draw_rect(img_name,xmin,ymin,xmax,ymax,color):\n",
    "    image =Image.open(PATH_TO_TEST_IMAGES+img_name)\n",
    "    im = np.array(image, dtype=np.uint8)\n",
    "    cv2.rectangle(im,(xmax,ymax),(xmin,ymin),color,2)\n",
    "    img = Image.new(\"RGB\",image.size)\n",
    "    img = Image.fromarray(im, 'RGB')\n",
    "    img.save(OUTPUT_PATH+img_name)"
   ]
  },
  {
   "cell_type": "code",
   "execution_count": 79,
   "metadata": {},
   "outputs": [],
   "source": [
    "def save_img():\n",
    "    image =Image.open(PATH_TO_TEST_IMAGES+img_name)\n",
    "    im = np.array(image, dtype=np.uint8)"
   ]
  },
  {
   "cell_type": "code",
   "execution_count": 80,
   "metadata": {},
   "outputs": [],
   "source": [
    "def run_single_inference():\n",
    "    output =[]\n",
    "    for image_path in TEST_IMAGE_PATHS:\n",
    "      print(image_path)\n",
    "      #image = misc.imread(image_path)\n",
    "      image = Image.open(image_path)\n",
    "      # the array based representation of the image will be used later in order to prepare the\n",
    "      # result image with boxes and labels on it.\n",
    "      image_np = load_image_into_numpy_array(image)\n",
    "      # Expand dimensions since the model expects images to have shape: [1, None, None, 3]\n",
    "      image_np_expanded = np.expand_dims(image_np, axis=0)\n",
    "      # Actual detection.\n",
    "\n",
    "      output_dict = run_inference_for_single_image(image_np, detection_graph)\n",
    "      \n",
    "      #OUTPUT THE COORDINATES OF GOOD PICTURES\n",
    "      x = output_dict['detection_scores']\n",
    "      boxes = np.array\n",
    "      boxes = output_dict['detection_boxes'][x>threshold]\n",
    "      x = x[x>threshold]\n",
    "      for score,box in zip(x,boxes):\n",
    "          output.append([image_path,score,box])\n",
    "    \n",
    "    return output\n",
    "\n",
    "def run_inference():\n",
    "    output_dict = run_inference_for_multiple_image(TEST_IMAGE_PATHS, detection_graph)\n",
    "\n"
   ]
  },
  {
   "cell_type": "code",
   "execution_count": 81,
   "metadata": {
    "scrolled": true
   },
   "outputs": [
    {
     "name": "stdout",
     "output_type": "stream",
     "text": [
      "start time: 6653.892506484468\n",
      "end time: 6653.892737908033\n",
      "run took: 0.00029218078452686314\n"
     ]
    }
   ],
   "source": [
    "\n",
    "start_time = time.clock()\n",
    "# run_inference()\n",
    "print('start time: '+str(start_time))\n",
    "print('end time: '+str(time.clock()))\n",
    "print('run took: '+str(time.clock()-start_time))"
   ]
  },
  {
   "cell_type": "code",
   "execution_count": 82,
   "metadata": {},
   "outputs": [],
   "source": [
    "def get_color(score):\n",
    "    return (int)(255 - 255 * score ), (int)(score * 255 ), 0\n",
    "    "
   ]
  },
  {
   "cell_type": "code",
   "execution_count": 84,
   "metadata": {
    "scrolled": true
   },
   "outputs": [
    {
     "name": "stdout",
     "output_type": "stream",
     "text": [
      "Images/00002.jpg\n",
      "Images/00016.jpg\n",
      "Images/00021.jpg\n",
      "Images/00023.jpg\n",
      "Images/00037.jpg\n",
      "Images/00039.jpg\n",
      "Images/00043.jpg\n",
      "Images/00051.jpg\n",
      "Images/00058 - Copy.jpg\n",
      "Images/00058.jpg\n",
      "Images/00059.jpg\n",
      "Images/00067.jpg\n",
      "Images/00095.jpg\n",
      "Images/00113.jpg\n",
      "Images/00120.jpg\n",
      "Images/00128.jpg\n",
      "Images/0013.jpg\n",
      "Images/00139.jpg\n",
      "Images/0014.jpg\n",
      "Images/00146.jpg\n",
      "Images/0021.jpg\n",
      "Images/0026.jpg\n",
      "Images/0028.jpg\n",
      "Images/0034.jpg\n",
      "Images/0036.jpg\n",
      "Images/0044.jpg\n",
      "Images/0048.jpg\n",
      "Images/0055.jpg\n",
      "Images/0064.jpg\n",
      "Images/0077.jpg\n",
      "Images/0081.jpg\n",
      "Images/0084.jpg\n",
      "Images/0089.jpg\n",
      "Images/0110.jpg\n",
      "Images/0111.jpg\n",
      "Images/0119.jpg\n",
      "Images/0127.jpg\n",
      "Images/0129.jpg\n",
      "Images/0143.jpg\n",
      "Images/0145.jpg\n",
      "Images/0157.jpg\n",
      "Images/0159.jpg\n",
      "Images/0161.jpg\n",
      "Images/0169.jpg\n",
      "Images/0175.jpg\n",
      "Images/0179.jpg\n",
      "Images/0182.jpg\n",
      "Images/0203.jpg\n",
      "Images/0213.jpg\n",
      "Images/0217.jpg\n",
      "Images/0221.jpg\n",
      "Images/0223.jpg\n",
      "Images/0233.jpg\n",
      "Images/0236.jpg\n",
      "Images/0243.jpg\n",
      "Images/0253.jpg\n",
      "Images/0257.jpg\n",
      "Images/0264.jpg\n",
      "Images/0269.jpg\n",
      "Images/0271.jpg\n",
      "Images/0272.jpg\n",
      "Images/0277.jpg\n",
      "Images/0287.jpg\n",
      "Images/0289.jpg\n",
      "Images/0291.jpg\n",
      "Images/0299.jpg\n",
      "Images/0323.jpg\n",
      "Images/0330.jpg\n",
      "Images/0332.jpg\n",
      "Images/0370.jpg\n",
      "Images/0377.jpg\n",
      "Images/0388.jpg\n",
      "Images/0389.jpg\n",
      "Images/0407.jpg\n",
      "Images/0442.jpg\n",
      "Images/0472.jpg\n",
      "Images/0489.jpg\n",
      "Images/0511.jpg\n",
      "Images/0517.jpg\n",
      "Images/0520.jpg\n",
      "Images/0525.jpg\n"
     ]
    }
   ],
   "source": [
    "start_time = time.clock()\n",
    "pred_list = []\n",
    "pred_list =run_single_inference()\n",
    "end_time = time.clock()"
   ]
  },
  {
   "cell_type": "code",
   "execution_count": 85,
   "metadata": {
    "scrolled": true
   },
   "outputs": [
    {
     "name": "stdout",
     "output_type": "stream",
     "text": [
      "Run took: 343.0629338978524\n",
      "Average time per image: 1.6258906819803431\n",
      "IoU is 0.6657786036650453\n",
      "Number of items: 211 with: 25 FN and 186 TP\n"
     ]
    }
   ],
   "source": [
    "x = []\n",
    "IoU = []\n",
    "total = 0\n",
    "items = 0\n",
    "FN =0\n",
    "with open(PATH_TO_TRUE_LABELS) as a:\n",
    "    true_reader=csv.reader(a,delimiter=',');\n",
    "    for true_row in true_reader:\n",
    "\n",
    "        temp_IoU = 0\n",
    "        for pred_row in pred_list:\n",
    "            if true_row[0]==pred_row[0].split('/')[len(pred_row[0].split('/'))-1]:\n",
    "                temp_IoU = max(temp_IoU, get_intersect(pred_row[2],true_row[4:]))\n",
    "        if true_row[0]!='filename':\n",
    "            if temp_IoU<0.1 :\n",
    "                draw_rect(true_row[0],int(true_row[4]),int(true_row[5]),int(true_row[6]),int(true_row[7]),(255,255,255))\n",
    "                FN+=1\n",
    "            else:\n",
    "                draw_rect(true_row[0],int(true_row[4]),int(true_row[5]),int(true_row[6]),int(true_row[7]),get_color(pred_row[1]))\n",
    "        total+=temp_IoU\n",
    "        items+=1\n",
    "\n",
    "print('Run took: {}'.format(end_time-start_time))\n",
    "print('Average time per image: {}'.format((end_time-start_time)/items))\n",
    "print('IoU is {}'.format(total/items))\n",
    "print('Number of items: {} with: {} FN and {} TP'.format(items,FN,items-FN))\n",
    "#GPU Run took 16 seconds (2,67 seconds each)\n",
    "#CPU RUN TOOK 28 SECONDS (4,67 seconds each)\n",
    "\n",
    "# Run took: 427.77529488584605\n",
    "# Average time per image: 2.027371065809697\n",
    "# IoU is 0.5972971029283503\n",
    "# Number of items: 211 with: 24 FN and 187 TP"
   ]
  },
  {
   "cell_type": "code",
   "execution_count": null,
   "metadata": {},
   "outputs": [],
   "source": [
    "\n",
    "from tensorflow.python.client import device_lib\n",
    "\n",
    "def get_available_gpus():\n",
    "    local_device_protos = device_lib.list_local_devices()\n",
    "    return [x.name for x in local_device_protos if x.device_type == 'GPU']\n",
    "print(get_available_gpus())"
   ]
  },
  {
   "cell_type": "code",
   "execution_count": null,
   "metadata": {},
   "outputs": [],
   "source": []
  }
 ],
 "metadata": {
  "colab": {
   "version": "0.3.2"
  },
  "kernelspec": {
   "display_name": "Python 3",
   "language": "python",
   "name": "python3"
  },
  "language_info": {
   "codemirror_mode": {
    "name": "ipython",
    "version": 3
   },
   "file_extension": ".py",
   "mimetype": "text/x-python",
   "name": "python",
   "nbconvert_exporter": "python",
   "pygments_lexer": "ipython3",
   "version": "3.5.2"
  }
 },
 "nbformat": 4,
 "nbformat_minor": 2
}
