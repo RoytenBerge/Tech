{
 "cells": [
  {
   "cell_type": "code",
   "execution_count": 6,
   "metadata": {},
   "outputs": [],
   "source": [
    "\n",
    "import tensorflow as tf\n",
    "\n",
    "\n",
    "# ROOT = os.getcwd()\n",
    "# What model to download.\n",
    "MODEL_PATH = 'Model/800img2.pb'\n",
    "#Path to input images\n",
    "PATH_TO_TEST_IMAGES = 'output/'\n",
    "\n",
    "# List of the strings that is used to add correct label for each box.\n",
    "# PATH_TO_LABELS = os.path.join('training', 'labelmap.pbtxt')\n",
    "\n",
    "OUTPUT_PATH = 'output/'\n",
    "threshold = 0.1"
   ]
  },
  {
   "cell_type": "code",
   "execution_count": 7,
   "metadata": {},
   "outputs": [
    {
     "name": "stdout",
     "output_type": "stream",
     "text": [
      "done\n"
     ]
    }
   ],
   "source": [
    "detection_graph = tf.Graph()\n",
    "with detection_graph.as_default():\n",
    "  od_graph_def = tf.GraphDef()\n",
    "  with tf.gfile.GFile(MODEL_PATH, 'rb') as fid:\n",
    "    serialized_graph = fid.read()\n",
    "    od_graph_def.ParseFromString(serialized_graph)\n",
    "    tf.import_graph_def(od_graph_def, name='')\n",
    "print('done')"
   ]
  },
  {
   "cell_type": "code",
   "execution_count": 15,
   "metadata": {},
   "outputs": [
    {
     "name": "stdout",
     "output_type": "stream",
     "text": [
      "done\n"
     ]
    }
   ],
   "source": [
    "def run_inference_for_multiple_image(images, graph):\n",
    "  with graph.as_default():\n",
    "    with tf.Session() as sess:\n",
    "      # Get handles to input and output tensors\n",
    "      ops = tf.get_default_graph().get_operations()\n",
    "      all_tensor_names = {output.name for op in ops for output in op.outputs}\n",
    "      tensor_dict = {}\n",
    "      for key in [\n",
    "          'num_detections', 'detection_boxes', 'detection_scores',\n",
    "          'detection_classes', 'detection_masks'\n",
    "      ]:\n",
    "        tensor_name = key + ':0'\n",
    "        if tensor_name in all_tensor_names:\n",
    "          tensor_dict[key] = tf.get_default_graph().get_tensor_by_name(\n",
    "              tensor_name)\n",
    "      if 'detection_masks' in tensor_dict:\n",
    "        # The following processing is only for single image\n",
    "        detection_boxes = tf.squeeze(tensor_dict['detection_boxes'], [0])\n",
    "        detection_masks = tf.squeeze(tensor_dict['detection_masks'], [0])\n",
    "        # Reframe is required to translate mask from box coordinates to image coordinates and fit the image size.\n",
    "        real_num_detection = tf.cast(tensor_dict['num_detections'][0], tf.int32)\n",
    "        detection_boxes = tf.slice(detection_boxes, [0, 0], [real_num_detection, -1])\n",
    "        detection_masks = tf.slice(detection_masks, [0, 0, 0], [real_num_detection, -1, -1])\n",
    "        detection_masks_reframed = utils_ops.reframe_box_masks_to_image_masks(\n",
    "            detection_masks, detection_boxes, image.shape[0], image.shape[1])\n",
    "        detection_masks_reframed = tf.cast(\n",
    "            tf.greater(detection_masks_reframed, 0.5), tf.uint8)\n",
    "        # Follow the convention by adding back the batch dimension\n",
    "        tensor_dict['detection_masks'] = tf.expand_dims(\n",
    "            detection_masks_reframed, 0)\n",
    "      image_tensor = tf.get_default_graph().get_tensor_by_name('image_tensor:0')\n",
    "      for image_path in images:\n",
    "          print(image_path)\n",
    "          image = Image.open(image_path)\n",
    "          \n",
    "          #Run inference\n",
    "          image_np = load_image_into_numpy_array(image)\n",
    "          image_np_expanded = np.expand_dims(image, axis=0)\n",
    "          output_dict = sess.run(tensor_dict,\n",
    "                                 feed_dict={image_tensor: np.expand_dims(image, 0)})\n",
    "\n",
    "#           print(output_dict['detection_scores'])\n",
    "          # all outputs are float32 numpy arrays, so convert types as appropriate\n",
    "          output_dict['num_detections'] = int(output_dict['num_detections'][0])\n",
    "          output_dict['detection_classes'] = output_dict[\n",
    "              'detection_classes'][0].astype(np.uint8)\n",
    "          output_dict['detection_boxes'] = output_dict['detection_boxes'][0]\n",
    "          output_dict['detection_scores'] = output_dict['detection_scores'][0]\n",
    "          if 'detection_masks' in output_dict:\n",
    "            output_dict['detection_masks'] = output_dict['detection_masks'][0]\n",
    "          count = 0\n",
    "          for box,classes,score in zip(output_dict['detection_boxes'],output_dict['detection_classes'],output_dict['detection_scores']):\n",
    "            #Drawing boxes takes a long time!!!\n",
    "            if score >1.0:\n",
    "                ymin,xmin,ymax,xmax = box\n",
    "                xmin,xmax= converse(xmin,xmax,image.size[0])\n",
    "                ymin,ymax= converse(ymin,ymax,image.size[1])\n",
    "                image = draw_rect(np.array(image),image_path,xmin,ymin,xmax,ymax,score,(255,255,255))\n",
    "      #saver.save(sess,graphOutputTest)\n",
    "  return output_dict\n",
    "print('done')\n"
   ]
  },
  {
   "cell_type": "code",
   "execution_count": 11,
   "metadata": {
    "collapsed": true
   },
   "outputs": [],
   "source": [
    "def load_image_into_numpy_array(image):\n",
    "  (im_width, im_height) = image.size\n",
    "  return np.array(image.getdata()).reshape(\n",
    "      (im_height, im_width, 3)).astype(np.uint8)"
   ]
  },
  {
   "cell_type": "code",
   "execution_count": 14,
   "metadata": {},
   "outputs": [
    {
     "name": "stdout",
     "output_type": "stream",
     "text": [
      "eval/test/hori00007.png\n"
     ]
    }
   ],
   "source": [
    "import numpy as np\n",
    "from PIL import Image\n",
    "output_dict = run_inference_for_multiple_image(['eval/test/hori00007.png'],detection_graph)"
   ]
  },
  {
   "cell_type": "code",
   "execution_count": null,
   "metadata": {
    "collapsed": true
   },
   "outputs": [],
   "source": []
  }
 ],
 "metadata": {
  "kernelspec": {
   "display_name": "Python 3",
   "language": "python",
   "name": "python3"
  },
  "language_info": {
   "codemirror_mode": {
    "name": "ipython",
    "version": 3
   },
   "file_extension": ".py",
   "mimetype": "text/x-python",
   "name": "python",
   "nbconvert_exporter": "python",
   "pygments_lexer": "ipython3",
   "version": "3.6.3"
  }
 },
 "nbformat": 4,
 "nbformat_minor": 2
}
